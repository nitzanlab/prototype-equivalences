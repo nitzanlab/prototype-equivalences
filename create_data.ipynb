{
 "cells": [
  {
   "cell_type": "code",
   "execution_count": 8,
   "metadata": {
    "collapsed": true
   },
   "outputs": [],
   "source": [
    "import torch\n",
    "\n",
    "from systems import SO, LienardSigmoid, LienardPoly, Selkov, BZreaction, VanDerPol\n",
    "import numpy as np\n",
    "from pathlib import Path\n",
    "from tqdm import tqdm"
   ]
  },
  {
   "cell_type": "code",
   "execution_count": 3,
   "outputs": [],
   "source": [
    "N = 1000 # number of observed vectors\n",
    "T_max = 3 # maximum simulation time\n",
    "n_systems = 200 # number of systems to create\n",
    "dim = 2 # dimension of data\n",
    "noise = 0  # standard deviation of the noise added to the data\n",
    "root = 'data/'\n",
    "\n",
    "# define systems of which data should be generated\n",
    "systems = [\n",
    "    ['SO', SO],\n",
    "    ['selkov', Selkov],\n",
    "    ['bzreaction', BZreaction],\n",
    "    ['lienard_poly', LienardPoly],\n",
    "    ['lienard_sigmoid', LienardSigmoid],\n",
    "    ['vanderpol', VanDerPol],\n",
    "]"
   ],
   "metadata": {
    "collapsed": false
   }
  },
  {
   "cell_type": "markdown",
   "source": [
    "## Create and save data"
   ],
   "metadata": {
    "collapsed": false
   }
  },
  {
   "cell_type": "code",
   "execution_count": null,
   "outputs": [],
   "source": [
    "# iterate over systems defined above\n",
    "for (name, system) in systems:\n",
    "    # create save path for the specific system\n",
    "    path = root + f'{name}/'\n",
    "    Path(path).mkdir(exist_ok=True, parents=True)\n",
    "    xs = []\n",
    "    dxs = []\n",
    "    print(name, flush=True)\n",
    "    # iterate over the number of required systems\n",
    "    for i in tqdm(range(n_systems)):\n",
    "        # reproducability\n",
    "        torch.manual_seed(i)\n",
    "        np.random.seed(i)\n",
    "\n",
    "        # sample a system with random parameters\n",
    "        s = system()\n",
    "\n",
    "        # generate random locations from simulated trajectories\n",
    "        x = s.rand_on_traj(s.random_x(N=N, dim=dim), T=T_max)\n",
    "        xs.append(x.numpy())\n",
    "\n",
    "        # get velocities and add noise\n",
    "        dx = s(0, x)\n",
    "        dx = dx + noise*torch.randn_like(dx)\n",
    "        dxs.append(dx.numpy())\n",
    "\n",
    "    # the positions are saved as a numpy array with shape [n_systems, dim]\n",
    "    xs = np.stack(xs)\n",
    "    np.save(path+f'coords_T={T_max}.npy', xs)\n",
    "\n",
    "    # the velocities are saved as a numpy array with shape [n_systems, dim]\n",
    "    dxs = np.stack(dxs)\n",
    "    np.save(path+f'X_T={T_max}.npy', dxs)"
   ],
   "metadata": {
    "collapsed": false,
    "pycharm": {
     "is_executing": true
    }
   }
  }
 ],
 "metadata": {
  "kernelspec": {
   "display_name": "Python 3",
   "language": "python",
   "name": "python3"
  },
  "language_info": {
   "codemirror_mode": {
    "name": "ipython",
    "version": 2
   },
   "file_extension": ".py",
   "mimetype": "text/x-python",
   "name": "python",
   "nbconvert_exporter": "python",
   "pygments_lexer": "ipython2",
   "version": "2.7.6"
  }
 },
 "nbformat": 4,
 "nbformat_minor": 0
}
