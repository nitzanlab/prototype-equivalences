{
 "cells": [
  {
   "cell_type": "code",
   "execution_count": 8,
   "metadata": {
    "collapsed": true
   },
   "outputs": [],
   "source": [
    "import torch\n",
    "\n",
    "from systems import SO, LienardSigmoid, LienardPoly, Selkov, BZreaction, VanDerPol\n",
    "import numpy as np\n",
    "from pathlib import Path\n",
    "from tqdm import tqdm"
   ]
  },
  {
   "cell_type": "code",
   "execution_count": 3,
   "outputs": [],
   "source": [
    "N = 1000 # number of points\n",
    "T_max = 3 # maximum simulation time\n",
    "n_systems = 200 # number of systems to create\n",
    "dim = 2 # dimension of data\n",
    "root = 'data/'\n",
    "\n",
    "systems = [\n",
    "    ['SO', SO],\n",
    "    ['selkov', Selkov],\n",
    "    ['bzreaction', BZreaction],\n",
    "    ['lienard_poly', LienardPoly],\n",
    "    ['lienard_sigmoid', LienardSigmoid],\n",
    "    ['vanderpol', VanDerPol],\n",
    "]"
   ],
   "metadata": {
    "collapsed": false
   }
  },
  {
   "cell_type": "code",
   "execution_count": null,
   "outputs": [],
   "source": [
    "for (name, system) in systems:\n",
    "    path = root + f'{name}/'\n",
    "    Path(path).mkdir(exist_ok=True, parents=True)\n",
    "    xs = []\n",
    "    dxs = []\n",
    "    print(name, flush=True)\n",
    "    for i in tqdm(range(n_systems)):\n",
    "        torch.manual_seed(i)\n",
    "        np.random.seed(i)\n",
    "        s = system()\n",
    "        x = s.rand_on_traj(s.random_x(N=N, dim=dim), T=T_max)\n",
    "        xs.append(x.numpy())\n",
    "        dx = s(0, x)\n",
    "        dxs.append(dx.numpy())\n",
    "    xs = np.stack(xs)\n",
    "    np.save(path+f'coords_T={T_max}.npy', xs)\n",
    "    dxs = np.stack(dxs)\n",
    "    np.save(path+f'X_T={T_max}.npy', dxs)"
   ],
   "metadata": {
    "collapsed": false,
    "pycharm": {
     "is_executing": true
    }
   }
  }
 ],
 "metadata": {
  "kernelspec": {
   "display_name": "Python 3",
   "language": "python",
   "name": "python3"
  },
  "language_info": {
   "codemirror_mode": {
    "name": "ipython",
    "version": 2
   },
   "file_extension": ".py",
   "mimetype": "text/x-python",
   "name": "python",
   "nbconvert_exporter": "python",
   "pygments_lexer": "ipython2",
   "version": "2.7.6"
  }
 },
 "nbformat": 4,
 "nbformat_minor": 0
}
