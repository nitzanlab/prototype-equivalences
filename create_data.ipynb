{
 "cells": [
  {
   "cell_type": "code",
   "execution_count": 8,
   "metadata": {
    "collapsed": true
   },
   "outputs": [],
   "source": [
    "import torch\n",
    "\n",
    "from systems import SO, LienardSigmoid, LienardPoly, Selkov, BZreaction\n",
    "import numpy as np\n",
    "from pathlib import Path\n",
    "from tqdm import tqdm"
   ]
  },
  {
   "cell_type": "code",
   "execution_count": 3,
   "outputs": [],
   "source": [
    "N = 1000 # number of points\n",
    "T_max = 3 # maximum simulation time\n",
    "n_systems = 200 # number of systems to create\n",
    "dim = 2 # dimension of data\n",
    "root = 'data/'\n",
    "\n",
    "systems = [\n",
    "    ['SO', SO],\n",
    "    ['selkov', Selkov],\n",
    "    ['bzreaction', BZreaction],\n",
    "    ['lienard_poly', LienardPoly],\n",
    "    ['lienard_sigmoid', LienardSigmoid],\n",
    "]"
   ],
   "metadata": {
    "collapsed": false
   }
  },
  {
   "cell_type": "code",
   "execution_count": 9,
   "outputs": [
    {
     "name": "stdout",
     "output_type": "stream",
     "text": [
      "SO\n"
     ]
    },
    {
     "name": "stderr",
     "output_type": "stream",
     "text": [
      "100%|██████████| 200/200 [00:23<00:00,  8.53it/s]"
     ]
    },
    {
     "name": "stdout",
     "output_type": "stream",
     "text": [
      "selkov\n"
     ]
    },
    {
     "name": "stderr",
     "output_type": "stream",
     "text": [
      "\n",
      "100%|██████████| 200/200 [00:13<00:00, 14.44it/s]"
     ]
    },
    {
     "name": "stdout",
     "output_type": "stream",
     "text": [
      "bzreaction\n"
     ]
    },
    {
     "name": "stderr",
     "output_type": "stream",
     "text": [
      "\n",
      " 14%|█▍        | 29/200 [00:02<00:13, 12.61it/s]\n"
     ]
    },
    {
     "ename": "KeyboardInterrupt",
     "evalue": "",
     "output_type": "error",
     "traceback": [
      "\u001B[0;31m---------------------------------------------------------------------------\u001B[0m",
      "\u001B[0;31mKeyboardInterrupt\u001B[0m                         Traceback (most recent call last)",
      "Input \u001B[0;32mIn [9]\u001B[0m, in \u001B[0;36m<cell line: 1>\u001B[0;34m()\u001B[0m\n\u001B[1;32m      9\u001B[0m np\u001B[38;5;241m.\u001B[39mrandom\u001B[38;5;241m.\u001B[39mseed(i)\n\u001B[1;32m     10\u001B[0m s \u001B[38;5;241m=\u001B[39m system()\n\u001B[0;32m---> 11\u001B[0m x \u001B[38;5;241m=\u001B[39m \u001B[43ms\u001B[49m\u001B[38;5;241;43m.\u001B[39;49m\u001B[43mrand_on_traj\u001B[49m\u001B[43m(\u001B[49m\u001B[43ms\u001B[49m\u001B[38;5;241;43m.\u001B[39;49m\u001B[43mrandom_x\u001B[49m\u001B[43m(\u001B[49m\u001B[43mN\u001B[49m\u001B[38;5;241;43m=\u001B[39;49m\u001B[43mN\u001B[49m\u001B[43m,\u001B[49m\u001B[43m \u001B[49m\u001B[43mdim\u001B[49m\u001B[38;5;241;43m=\u001B[39;49m\u001B[43mdim\u001B[49m\u001B[43m)\u001B[49m\u001B[43m,\u001B[49m\u001B[43m \u001B[49m\u001B[43mT\u001B[49m\u001B[38;5;241;43m=\u001B[39;49m\u001B[43mT_max\u001B[49m\u001B[43m)\u001B[49m\n\u001B[1;32m     12\u001B[0m xs\u001B[38;5;241m.\u001B[39mappend(x\u001B[38;5;241m.\u001B[39mnumpy())\n\u001B[1;32m     13\u001B[0m dx \u001B[38;5;241m=\u001B[39m s(\u001B[38;5;241m0\u001B[39m, x)\n",
      "File \u001B[0;32m~/Documents/Research/prototype-equivalences/systems.py:53\u001B[0m, in \u001B[0;36mPhaseSpace.rand_on_traj\u001B[0;34m(self, x, T, step, euler, min_time)\u001B[0m\n\u001B[1;32m     50\u001B[0m \u001B[38;5;28;01mdef\u001B[39;00m \u001B[38;5;21mrand_on_traj\u001B[39m(\u001B[38;5;28mself\u001B[39m, x: torch\u001B[38;5;241m.\u001B[39mTensor, T: \u001B[38;5;28mfloat\u001B[39m, step: \u001B[38;5;28mfloat\u001B[39m\u001B[38;5;241m=\u001B[39m\u001B[38;5;241m1e-2\u001B[39m, euler: \u001B[38;5;28mbool\u001B[39m\u001B[38;5;241m=\u001B[39m\u001B[38;5;28;01mFalse\u001B[39;00m,\n\u001B[1;32m     51\u001B[0m                  min_time: \u001B[38;5;28mfloat\u001B[39m\u001B[38;5;241m=\u001B[39m\u001B[38;5;241m0\u001B[39m) \u001B[38;5;241m-\u001B[39m\u001B[38;5;241m>\u001B[39m torch\u001B[38;5;241m.\u001B[39mTensor:\n\u001B[1;32m     52\u001B[0m     strt \u001B[38;5;241m=\u001B[39m \u001B[38;5;28mint\u001B[39m(min_time\u001B[38;5;241m/\u001B[39mstep)\n\u001B[0;32m---> 53\u001B[0m     traj \u001B[38;5;241m=\u001B[39m \u001B[38;5;28;43mself\u001B[39;49m\u001B[38;5;241;43m.\u001B[39;49m\u001B[43mtrajectories\u001B[49m\u001B[43m(\u001B[49m\u001B[43mx\u001B[49m\u001B[43m,\u001B[49m\u001B[43m \u001B[49m\u001B[43mT\u001B[49m\u001B[38;5;241;43m=\u001B[39;49m\u001B[43mT\u001B[49m\u001B[43m,\u001B[49m\u001B[43m \u001B[49m\u001B[43mstep\u001B[49m\u001B[38;5;241;43m=\u001B[39;49m\u001B[43mstep\u001B[49m\u001B[43m,\u001B[49m\u001B[43m \u001B[49m\u001B[43meuler\u001B[49m\u001B[38;5;241;43m=\u001B[39;49m\u001B[43meuler\u001B[49m\u001B[43m)\u001B[49m[strt:]\n\u001B[1;32m     54\u001B[0m     pts \u001B[38;5;241m=\u001B[39m []\n\u001B[1;32m     55\u001B[0m     \u001B[38;5;28;01mfor\u001B[39;00m i \u001B[38;5;129;01min\u001B[39;00m \u001B[38;5;28mrange\u001B[39m(x\u001B[38;5;241m.\u001B[39mshape[\u001B[38;5;241m0\u001B[39m]):\n",
      "File \u001B[0;32m~/Documents/Research/prototype-equivalences/systems.py:48\u001B[0m, in \u001B[0;36mPhaseSpace.trajectories\u001B[0;34m(self, x, T, step, euler)\u001B[0m\n\u001B[1;32m     46\u001B[0m \u001B[38;5;28;01mdef\u001B[39;00m \u001B[38;5;21mtrajectories\u001B[39m(\u001B[38;5;28mself\u001B[39m, x: torch\u001B[38;5;241m.\u001B[39mTensor, T: \u001B[38;5;28mfloat\u001B[39m, step: \u001B[38;5;28mfloat\u001B[39m\u001B[38;5;241m=\u001B[39m\u001B[38;5;241m1e-2\u001B[39m, euler: \u001B[38;5;28mbool\u001B[39m\u001B[38;5;241m=\u001B[39m\u001B[38;5;28;01mFalse\u001B[39;00m) \u001B[38;5;241m-\u001B[39m\u001B[38;5;241m>\u001B[39m torch\u001B[38;5;241m.\u001B[39mTensor:\n\u001B[1;32m     47\u001B[0m     \u001B[38;5;66;03m# x = torch.clamp(x, self.position_lims[0], self.position_lims[1])\u001B[39;00m\n\u001B[0;32m---> 48\u001B[0m     \u001B[38;5;28;01mreturn\u001B[39;00m \u001B[43msimulate_trajectory\u001B[49m\u001B[43m(\u001B[49m\u001B[38;5;28;43mself\u001B[39;49m\u001B[38;5;241;43m.\u001B[39;49m\u001B[43mforward\u001B[49m\u001B[43m,\u001B[49m\u001B[43m \u001B[49m\u001B[43mx\u001B[49m\u001B[43m,\u001B[49m\u001B[43m \u001B[49m\u001B[43mT\u001B[49m\u001B[38;5;241;43m=\u001B[39;49m\u001B[43mT\u001B[49m\u001B[43m,\u001B[49m\u001B[43m \u001B[49m\u001B[43mstep\u001B[49m\u001B[38;5;241;43m=\u001B[39;49m\u001B[43mstep\u001B[49m\u001B[43m,\u001B[49m\u001B[43m \u001B[49m\u001B[43meuler\u001B[49m\u001B[38;5;241;43m=\u001B[39;49m\u001B[43meuler\u001B[49m\u001B[43m)\u001B[49m\n",
      "File \u001B[0;32m~/Documents/Research/prototype-equivalences/Hutils.py:61\u001B[0m, in \u001B[0;36msimulate_trajectory\u001B[0;34m(grad, init, T, step, euler)\u001B[0m\n\u001B[1;32m     59\u001B[0m \u001B[38;5;28;01melse\u001B[39;00m:\n\u001B[1;32m     60\u001B[0m     k1 \u001B[38;5;241m=\u001B[39m grad(t, pnts)\n\u001B[0;32m---> 61\u001B[0m     k2 \u001B[38;5;241m=\u001B[39m \u001B[43mgrad\u001B[49m\u001B[43m(\u001B[49m\u001B[43mt\u001B[49m\u001B[38;5;241;43m+\u001B[39;49m\u001B[43mstep\u001B[49m\u001B[38;5;241;43m/\u001B[39;49m\u001B[38;5;241;43m2\u001B[39;49m\u001B[43m,\u001B[49m\u001B[43m \u001B[49m\u001B[43mpnts\u001B[49m\u001B[38;5;241;43m+\u001B[39;49m\u001B[38;5;241;43m.5\u001B[39;49m\u001B[38;5;241;43m*\u001B[39;49m\u001B[43mstep\u001B[49m\u001B[38;5;241;43m*\u001B[39;49m\u001B[43mk1\u001B[49m\u001B[43m)\u001B[49m\n\u001B[1;32m     62\u001B[0m     k3 \u001B[38;5;241m=\u001B[39m grad(t\u001B[38;5;241m+\u001B[39mstep\u001B[38;5;241m/\u001B[39m\u001B[38;5;241m2\u001B[39m, pnts\u001B[38;5;241m+\u001B[39m\u001B[38;5;241m.5\u001B[39m\u001B[38;5;241m*\u001B[39mstep\u001B[38;5;241m*\u001B[39mk2)\n\u001B[1;32m     63\u001B[0m     k4 \u001B[38;5;241m=\u001B[39m grad(t\u001B[38;5;241m+\u001B[39mstep, pnts\u001B[38;5;241m+\u001B[39mstep\u001B[38;5;241m*\u001B[39mk3)\n",
      "File \u001B[0;32m~/Documents/Research/prototype-equivalences/systems.py:340\u001B[0m, in \u001B[0;36mBZreaction.forward\u001B[0;34m(self, t, z)\u001B[0m\n\u001B[1;32m    337\u001B[0m nonosc \u001B[38;5;241m=\u001B[39m z[\u001B[38;5;241m.\u001B[39m\u001B[38;5;241m.\u001B[39m\u001B[38;5;241m.\u001B[39m, \u001B[38;5;241m2\u001B[39m:]\n\u001B[1;32m    339\u001B[0m xdot \u001B[38;5;241m=\u001B[39m a \u001B[38;5;241m-\u001B[39m x \u001B[38;5;241m-\u001B[39m \u001B[38;5;241m4\u001B[39m \u001B[38;5;241m*\u001B[39m x \u001B[38;5;241m*\u001B[39m y \u001B[38;5;241m/\u001B[39m (\u001B[38;5;241m1\u001B[39m \u001B[38;5;241m+\u001B[39m x \u001B[38;5;241m*\u001B[39m\u001B[38;5;241m*\u001B[39m \u001B[38;5;241m2\u001B[39m)\n\u001B[0;32m--> 340\u001B[0m ydot \u001B[38;5;241m=\u001B[39m b \u001B[38;5;241m*\u001B[39m x \u001B[38;5;241m*\u001B[39m (\u001B[38;5;241;43m1\u001B[39;49m\u001B[43m \u001B[49m\u001B[38;5;241;43m-\u001B[39;49m\u001B[43m \u001B[49m\u001B[43my\u001B[49m\u001B[43m \u001B[49m\u001B[38;5;241;43m/\u001B[39;49m\u001B[43m \u001B[49m\u001B[43m(\u001B[49m\u001B[38;5;241;43m1\u001B[39;49m\u001B[43m \u001B[49m\u001B[38;5;241;43m+\u001B[39;49m\u001B[43m \u001B[49m\u001B[43mx\u001B[49m\u001B[43m \u001B[49m\u001B[38;5;241;43m*\u001B[39;49m\u001B[38;5;241;43m*\u001B[39;49m\u001B[43m \u001B[49m\u001B[38;5;241;43m2\u001B[39;49m\u001B[43m)\u001B[49m)\n\u001B[1;32m    341\u001B[0m zdot \u001B[38;5;241m=\u001B[39m torch\u001B[38;5;241m.\u001B[39mcat([xdot[\u001B[38;5;241m.\u001B[39m\u001B[38;5;241m.\u001B[39m\u001B[38;5;241m.\u001B[39m, \u001B[38;5;28;01mNone\u001B[39;00m], ydot[\u001B[38;5;241m.\u001B[39m\u001B[38;5;241m.\u001B[39m\u001B[38;5;241m.\u001B[39m, \u001B[38;5;28;01mNone\u001B[39;00m], \u001B[38;5;241m-\u001B[39mdecay\u001B[38;5;241m*\u001B[39mnonosc], dim\u001B[38;5;241m=\u001B[39m\u001B[38;5;241m-\u001B[39m\u001B[38;5;241m1\u001B[39m)\n\u001B[1;32m    342\u001B[0m \u001B[38;5;28;01mreturn\u001B[39;00m zdot\n",
      "File \u001B[0;32m~/Documents/Research/torchenv/lib/python3.10/site-packages/torch/_tensor.py:38\u001B[0m, in \u001B[0;36m_handle_torch_function_and_wrap_type_error_to_not_implemented.<locals>.wrapped\u001B[0;34m(*args, **kwargs)\u001B[0m\n\u001B[1;32m     34\u001B[0m \u001B[38;5;129m@functools\u001B[39m\u001B[38;5;241m.\u001B[39mwraps(f, assigned\u001B[38;5;241m=\u001B[39massigned)\n\u001B[1;32m     35\u001B[0m \u001B[38;5;28;01mdef\u001B[39;00m \u001B[38;5;21mwrapped\u001B[39m(\u001B[38;5;241m*\u001B[39margs, \u001B[38;5;241m*\u001B[39m\u001B[38;5;241m*\u001B[39mkwargs):\n\u001B[1;32m     36\u001B[0m     \u001B[38;5;28;01mtry\u001B[39;00m:\n\u001B[1;32m     37\u001B[0m         \u001B[38;5;66;03m# See https://github.com/pytorch/pytorch/issues/75462\u001B[39;00m\n\u001B[0;32m---> 38\u001B[0m         \u001B[38;5;28;01mif\u001B[39;00m \u001B[43mhas_torch_function\u001B[49m\u001B[43m(\u001B[49m\u001B[43margs\u001B[49m\u001B[43m)\u001B[49m:\n\u001B[1;32m     39\u001B[0m             \u001B[38;5;28;01mreturn\u001B[39;00m handle_torch_function(wrapped, args, \u001B[38;5;241m*\u001B[39margs, \u001B[38;5;241m*\u001B[39m\u001B[38;5;241m*\u001B[39mkwargs)\n\u001B[1;32m     40\u001B[0m         \u001B[38;5;28;01mreturn\u001B[39;00m f(\u001B[38;5;241m*\u001B[39margs, \u001B[38;5;241m*\u001B[39m\u001B[38;5;241m*\u001B[39mkwargs)\n",
      "\u001B[0;31mKeyboardInterrupt\u001B[0m: "
     ]
    }
   ],
   "source": [
    "for (name, system) in systems:\n",
    "    path = root + f'{name}/'\n",
    "    Path(path).mkdir(exist_ok=True, parents=True)\n",
    "    xs = []\n",
    "    dxs = []\n",
    "    print(name, flush=True)\n",
    "    for i in tqdm(range(n_systems)):\n",
    "        torch.manual_seed(i)\n",
    "        np.random.seed(i)\n",
    "        s = system()\n",
    "        x = s.rand_on_traj(s.random_x(N=N, dim=dim), T=T_max)\n",
    "        xs.append(x.numpy())\n",
    "        dx = s(0, x)\n",
    "        dxs.append(dx.numpy())\n",
    "    xs = np.stack(xs)\n",
    "    np.save(path+f'coords_T={T_max}.npy', xs)\n",
    "    dxs = np.stack(dxs)\n",
    "    np.save(path+f'X_T={T_max}.npy', dxs)"
   ],
   "metadata": {
    "collapsed": false
   }
  }
 ],
 "metadata": {
  "kernelspec": {
   "display_name": "Python 3",
   "language": "python",
   "name": "python3"
  },
  "language_info": {
   "codemirror_mode": {
    "name": "ipython",
    "version": 2
   },
   "file_extension": ".py",
   "mimetype": "text/x-python",
   "name": "python",
   "nbconvert_exporter": "python",
   "pygments_lexer": "ipython2",
   "version": "2.7.6"
  }
 },
 "nbformat": 4,
 "nbformat_minor": 0
}
